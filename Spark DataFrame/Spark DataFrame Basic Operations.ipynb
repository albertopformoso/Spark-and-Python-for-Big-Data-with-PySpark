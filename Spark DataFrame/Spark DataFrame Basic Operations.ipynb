{
 "cells": [
  {
   "cell_type": "markdown",
   "metadata": {},
   "source": [
    "# Spark DataFrame Basic Operations"
   ]
  },
  {
   "cell_type": "code",
   "execution_count": 1,
   "metadata": {},
   "outputs": [],
   "source": [
    "import findspark\n",
    "findspark.init('C:\\Spark\\spark-3.0.1-bin-hadoop2.7')\n",
    "from pyspark.sql import SparkSession"
   ]
  },
  {
   "cell_type": "code",
   "execution_count": 2,
   "metadata": {},
   "outputs": [],
   "source": [
    "spark = SparkSession.builder.appName('ops').getOrCreate()"
   ]
  },
  {
   "cell_type": "code",
   "execution_count": 3,
   "metadata": {},
   "outputs": [],
   "source": [
    "df = spark.read.csv('appl_stock.csv',\n",
    "                    inferSchema=True,\n",
    "                    header=True)"
   ]
  },
  {
   "cell_type": "code",
   "execution_count": 4,
   "metadata": {},
   "outputs": [
    {
     "name": "stdout",
     "output_type": "stream",
     "text": [
      "root\n",
      " |-- Date: string (nullable = true)\n",
      " |-- Open: double (nullable = true)\n",
      " |-- High: double (nullable = true)\n",
      " |-- Low: double (nullable = true)\n",
      " |-- Close: double (nullable = true)\n",
      " |-- Volume: integer (nullable = true)\n",
      " |-- Adj Close: double (nullable = true)\n",
      "\n"
     ]
    }
   ],
   "source": [
    "df.printSchema()"
   ]
  },
  {
   "cell_type": "code",
   "execution_count": 5,
   "metadata": {},
   "outputs": [
    {
     "name": "stdout",
     "output_type": "stream",
     "text": [
      "+----------+------+------+------+------+--------+---------+\n",
      "|      Date|  Open|  High|   Low| Close|  Volume|Adj Close|\n",
      "+----------+------+------+------+------+--------+---------+\n",
      "|2012-03-30|608.77|610.56|597.94|599.55|26050900|   599.55|\n",
      "|2012-03-29|612.78|616.56|607.23|609.86|21668300|   609.86|\n",
      "|2012-03-28|618.38|621.45|610.31|617.62|23385200|   617.62|\n",
      "|2012-03-27|606.18|616.28|606.06|614.48|21628200|   614.48|\n",
      "|2012-03-26|599.79|607.15|595.26|606.98|21259900|   606.98|\n",
      "|2012-03-23|600.49| 601.8| 594.4|596.05|15359900|   596.05|\n",
      "|2012-03-22|597.78| 604.5|595.53|599.34|22281100|   599.34|\n",
      "|2012-03-21|602.74|609.65|601.41| 602.5|22958200|    602.5|\n",
      "|2012-03-20|599.51| 606.9|591.48|605.96|29166500|   605.96|\n",
      "|2012-03-19|598.37|601.77|589.05| 601.1|32187000|    601.1|\n",
      "|2012-03-16|584.72| 589.2| 578.0|585.57|29481700|   585.57|\n",
      "|2012-03-15|599.61|600.01|578.55|585.56|41418500|   585.56|\n",
      "|2012-03-14|578.05|594.72| 575.4|589.58|50570100|   589.58|\n",
      "|2012-03-13|557.54|568.18|555.75| 568.1|24610500|    568.1|\n",
      "|2012-03-12|548.98| 552.0| 547.0| 552.0|14477800|    552.0|\n",
      "|2012-03-09|544.21|547.74|543.11|545.17|14943500|   545.17|\n",
      "|2012-03-08|534.69|542.99|532.12|541.99|18392600|   541.99|\n",
      "|2012-03-07| 536.8|537.78| 523.3|530.69|28490300|   530.69|\n",
      "|2012-03-06|523.66|533.69|516.22|530.26|28899400|   530.26|\n",
      "|2012-03-05|545.42|547.48| 526.0|533.16|28857200|   533.16|\n",
      "+----------+------+------+------+------+--------+---------+\n",
      "only showing top 20 rows\n",
      "\n"
     ]
    }
   ],
   "source": [
    "df.show()"
   ]
  },
  {
   "cell_type": "code",
   "execution_count": 6,
   "metadata": {},
   "outputs": [
    {
     "data": {
      "text/plain": [
       "Row(Date='2012-03-30', Open=608.77, High=610.56, Low=597.94, Close=599.55, Volume=26050900, Adj Close=599.55)"
      ]
     },
     "execution_count": 6,
     "metadata": {},
     "output_type": "execute_result"
    }
   ],
   "source": [
    "df.head(3)[0]"
   ]
  },
  {
   "cell_type": "code",
   "execution_count": 7,
   "metadata": {},
   "outputs": [
    {
     "name": "stdout",
     "output_type": "stream",
     "text": [
      "+----------+------+------+------+------+--------+---------+\n",
      "|      Date|  Open|  High|   Low| Close|  Volume|Adj Close|\n",
      "+----------+------+------+------+------+--------+---------+\n",
      "|2012-02-15|514.26|526.29|496.89|497.67|53706600|   497.67|\n",
      "|2012-02-10|490.96|497.62|488.55|493.42|22523900|   493.42|\n",
      "|2012-02-09|480.76|496.75|480.56|493.17|31527700|   493.17|\n",
      "|2012-02-08| 470.5|476.79| 469.7|476.68|14544700|   476.68|\n",
      "|2012-02-07|465.25|469.75|464.58|468.83|11280600|   468.83|\n",
      "+----------+------+------+------+------+--------+---------+\n",
      "only showing top 5 rows\n",
      "\n"
     ]
    }
   ],
   "source": [
    "df.filter('Close < 500').show(5)"
   ]
  },
  {
   "cell_type": "code",
   "execution_count": 8,
   "metadata": {},
   "outputs": [
    {
     "name": "stdout",
     "output_type": "stream",
     "text": [
      "+------+------+\n",
      "|  Open| Close|\n",
      "+------+------+\n",
      "|514.26|497.67|\n",
      "|490.96|493.42|\n",
      "|480.76|493.17|\n",
      "| 470.5|476.68|\n",
      "|465.25|468.83|\n",
      "+------+------+\n",
      "only showing top 5 rows\n",
      "\n"
     ]
    }
   ],
   "source": [
    "df.filter('Close < 500').select(['Open', 'Close']).show(5)"
   ]
  },
  {
   "cell_type": "code",
   "execution_count": 9,
   "metadata": {},
   "outputs": [
    {
     "name": "stdout",
     "output_type": "stream",
     "text": [
      "+----------+------+------+------+------+--------+---------+\n",
      "|      Date|  Open|  High|   Low| Close|  Volume|Adj Close|\n",
      "+----------+------+------+------+------+--------+---------+\n",
      "|2010-02-23| 200.0|201.33|195.71|197.06|20539100|   197.06|\n",
      "|2010-02-11|194.88|199.75|194.06|198.67|19655200|   198.67|\n",
      "|2010-02-10|195.89| 196.6|194.26|195.12|13227200|   195.12|\n",
      "|2010-02-09|196.42| 197.5|194.75|196.19|22603100|   196.19|\n",
      "|2010-02-08|195.69|197.88| 194.0|194.12|17081100|   194.12|\n",
      "+----------+------+------+------+------+--------+---------+\n",
      "only showing top 5 rows\n",
      "\n"
     ]
    }
   ],
   "source": [
    "df.filter((df['Close'] < 200) & ~(df['Open'] > 200)).show(5)"
   ]
  },
  {
   "cell_type": "code",
   "execution_count": 10,
   "metadata": {},
   "outputs": [],
   "source": [
    "df.createOrReplaceTempView('temp')"
   ]
  },
  {
   "cell_type": "code",
   "execution_count": 11,
   "metadata": {},
   "outputs": [],
   "source": [
    "results = spark.sql('''\n",
    "                SELECT * \n",
    "                FROM temp\n",
    "                WHERE Low = 197.16\n",
    "''')"
   ]
  },
  {
   "cell_type": "code",
   "execution_count": 12,
   "metadata": {},
   "outputs": [
    {
     "name": "stdout",
     "output_type": "stream",
     "text": [
      "+----------+------+-----+------+------+--------+---------+\n",
      "|      Date|  Open| High|   Low| Close|  Volume|Adj Close|\n",
      "+----------+------+-----+------+------+--------+---------+\n",
      "|2010-01-22|206.78|207.5|197.16|197.75|31491700|   197.75|\n",
      "+----------+------+-----+------+------+--------+---------+\n",
      "\n"
     ]
    }
   ],
   "source": [
    "results.show()"
   ]
  },
  {
   "cell_type": "code",
   "execution_count": 13,
   "metadata": {},
   "outputs": [
    {
     "name": "stdout",
     "output_type": "stream",
     "text": [
      "+----------+------+-----+------+------+--------+---------+\n",
      "|      Date|  Open| High|   Low| Close|  Volume|Adj Close|\n",
      "+----------+------+-----+------+------+--------+---------+\n",
      "|2010-01-22|206.78|207.5|197.16|197.75|31491700|   197.75|\n",
      "+----------+------+-----+------+------+--------+---------+\n",
      "\n"
     ]
    }
   ],
   "source": [
    "df.filter(df['Low'] == 197.16).show()"
   ]
  },
  {
   "cell_type": "code",
   "execution_count": 14,
   "metadata": {},
   "outputs": [
    {
     "data": {
      "text/plain": [
       "[Row(Date='2010-01-22', Open=206.78, High=207.5, Low=197.16, Close=197.75, Volume=31491700, Adj Close=197.75)]"
      ]
     },
     "execution_count": 14,
     "metadata": {},
     "output_type": "execute_result"
    }
   ],
   "source": [
    "result = df.filter(df['Low'] == 197.16).collect()\n",
    "df.filter(df['Low'] == 197.16).collect()"
   ]
  },
  {
   "cell_type": "code",
   "execution_count": 15,
   "metadata": {},
   "outputs": [
    {
     "data": {
      "text/plain": [
       "[Row(Date='2010-01-22', Open=206.78, High=207.5, Low=197.16, Close=197.75, Volume=31491700, Adj Close=197.75)]"
      ]
     },
     "execution_count": 15,
     "metadata": {},
     "output_type": "execute_result"
    }
   ],
   "source": [
    "result"
   ]
  },
  {
   "cell_type": "code",
   "execution_count": 16,
   "metadata": {},
   "outputs": [],
   "source": [
    "row = result[0]"
   ]
  },
  {
   "cell_type": "code",
   "execution_count": 17,
   "metadata": {},
   "outputs": [
    {
     "data": {
      "text/plain": [
       "{'Date': '2010-01-22',\n",
       " 'Open': 206.78,\n",
       " 'High': 207.5,\n",
       " 'Low': 197.16,\n",
       " 'Close': 197.75,\n",
       " 'Volume': 31491700,\n",
       " 'Adj Close': 197.75}"
      ]
     },
     "execution_count": 17,
     "metadata": {},
     "output_type": "execute_result"
    }
   ],
   "source": [
    "row.asDict()"
   ]
  },
  {
   "cell_type": "code",
   "execution_count": 18,
   "metadata": {},
   "outputs": [
    {
     "data": {
      "text/plain": [
       "31491700"
      ]
     },
     "execution_count": 18,
     "metadata": {},
     "output_type": "execute_result"
    }
   ],
   "source": [
    "row.asDict()['Volume']"
   ]
  },
  {
   "cell_type": "code",
   "execution_count": null,
   "metadata": {},
   "outputs": [],
   "source": []
  }
 ],
 "metadata": {
  "kernelspec": {
   "display_name": "Python 3",
   "language": "python",
   "name": "python3"
  },
  "language_info": {
   "codemirror_mode": {
    "name": "ipython",
    "version": 3
   },
   "file_extension": ".py",
   "mimetype": "text/x-python",
   "name": "python",
   "nbconvert_exporter": "python",
   "pygments_lexer": "ipython3",
   "version": "3.8.5"
  }
 },
 "nbformat": 4,
 "nbformat_minor": 4
}
